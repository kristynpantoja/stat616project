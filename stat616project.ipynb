{
 "cells": [
  {
   "cell_type": "code",
   "execution_count": 1,
   "metadata": {},
   "outputs": [],
   "source": [
    "# import libraries\n",
    "import numpy as np\n",
    "import pandas as pd\n",
    "import random\n",
    "from sklearn.cluster import KMeans\n",
    "# for plotting\n",
    "import matplotlib.pyplot as plt\n",
    "# for clique\n",
    "from pyclustering.cluster.clique import clique, clique_visualizer\n",
    "from pyclustering.cluster import cluster_visualizer_multidim\n",
    "# cite package: https://pypi.org/project/pyclustering/\n",
    "# https://pyclustering.github.io/docs/0.9.2/html/d5/d41/classpyclustering_1_1cluster_1_1encoder_1_1type__encoding.html#a55e89d2bfa06402ce1ccd13fa478cc19"
   ]
  },
  {
   "cell_type": "code",
   "execution_count": 2,
   "metadata": {},
   "outputs": [],
   "source": [
    "# set a seed, just in case\n",
    "random.seed(1234)"
   ]
  },
  {
   "cell_type": "code",
   "execution_count": 3,
   "metadata": {},
   "outputs": [],
   "source": [
    "# import data\n",
    "features = pd.read_csv(\"nci.data.csv\") \n",
    "features.drop(features.columns[0], axis = 1, inplace = True)\n",
    "features = features.T\n",
    "\n",
    "labels = pd.read_csv(\"nci.label.txt\", header = None)\n",
    "labels = labels[0].str.strip()\n",
    "labels.loc[labels == 'K562A-repro'] = 'K562'\n",
    "labels.loc[labels == 'K562B-repro'] = 'K562'\n",
    "labels.loc[labels == 'MCF7A-repro'] = 'MCF7'\n",
    "labels.loc[labels == 'MCF7D-repro'] = 'MCF7'\n",
    "\n",
    "# labels.unique()"
   ]
  },
  {
   "cell_type": "code",
   "execution_count": 4,
   "metadata": {},
   "outputs": [],
   "source": [
    "kmeans = KMeans(n_clusters = 3, random_state = 0).fit(features)"
   ]
  },
  {
   "cell_type": "code",
   "execution_count": 5,
   "metadata": {},
   "outputs": [],
   "source": [
    "predictions = pd.DataFrame(kmeans.predict(features))\n",
    "predictions = pd.concat([labels.reset_index(drop=True), predictions], axis = 1)\n",
    "predictions.columns = [\"label\", \"prediction\"]"
   ]
  },
  {
   "cell_type": "code",
   "execution_count": 6,
   "metadata": {},
   "outputs": [
    {
     "data": {
      "text/html": [
       "<div>\n",
       "<style scoped>\n",
       "    .dataframe tbody tr th:only-of-type {\n",
       "        vertical-align: middle;\n",
       "    }\n",
       "\n",
       "    .dataframe tbody tr th {\n",
       "        vertical-align: top;\n",
       "    }\n",
       "\n",
       "    .dataframe thead th {\n",
       "        text-align: right;\n",
       "    }\n",
       "</style>\n",
       "<table border=\"1\" class=\"dataframe\">\n",
       "  <thead>\n",
       "    <tr style=\"text-align: right;\">\n",
       "      <th>label</th>\n",
       "      <th>BREAST</th>\n",
       "      <th>CNS</th>\n",
       "      <th>COLON</th>\n",
       "      <th>K562</th>\n",
       "      <th>LEUKEMIA</th>\n",
       "      <th>MCF7</th>\n",
       "      <th>MELANOMA</th>\n",
       "      <th>NSCLC</th>\n",
       "      <th>OVARIAN</th>\n",
       "      <th>PROSTATE</th>\n",
       "      <th>RENAL</th>\n",
       "      <th>UNKNOWN</th>\n",
       "    </tr>\n",
       "    <tr>\n",
       "      <th>prediction</th>\n",
       "      <th></th>\n",
       "      <th></th>\n",
       "      <th></th>\n",
       "      <th></th>\n",
       "      <th></th>\n",
       "      <th></th>\n",
       "      <th></th>\n",
       "      <th></th>\n",
       "      <th></th>\n",
       "      <th></th>\n",
       "      <th></th>\n",
       "      <th></th>\n",
       "    </tr>\n",
       "  </thead>\n",
       "  <tbody>\n",
       "    <tr>\n",
       "      <td>0</td>\n",
       "      <td>2</td>\n",
       "      <td>0</td>\n",
       "      <td>7</td>\n",
       "      <td>2</td>\n",
       "      <td>6</td>\n",
       "      <td>2</td>\n",
       "      <td>0</td>\n",
       "      <td>0</td>\n",
       "      <td>0</td>\n",
       "      <td>0</td>\n",
       "      <td>0</td>\n",
       "      <td>0</td>\n",
       "    </tr>\n",
       "    <tr>\n",
       "      <td>1</td>\n",
       "      <td>2</td>\n",
       "      <td>0</td>\n",
       "      <td>0</td>\n",
       "      <td>0</td>\n",
       "      <td>0</td>\n",
       "      <td>0</td>\n",
       "      <td>7</td>\n",
       "      <td>0</td>\n",
       "      <td>0</td>\n",
       "      <td>0</td>\n",
       "      <td>0</td>\n",
       "      <td>0</td>\n",
       "    </tr>\n",
       "    <tr>\n",
       "      <td>2</td>\n",
       "      <td>3</td>\n",
       "      <td>5</td>\n",
       "      <td>0</td>\n",
       "      <td>0</td>\n",
       "      <td>0</td>\n",
       "      <td>0</td>\n",
       "      <td>1</td>\n",
       "      <td>9</td>\n",
       "      <td>6</td>\n",
       "      <td>2</td>\n",
       "      <td>9</td>\n",
       "      <td>1</td>\n",
       "    </tr>\n",
       "  </tbody>\n",
       "</table>\n",
       "</div>"
      ],
      "text/plain": [
       "label       BREAST  CNS  COLON  K562  LEUKEMIA  MCF7  MELANOMA  NSCLC  \\\n",
       "prediction                                                              \n",
       "0                2    0      7     2         6     2         0      0   \n",
       "1                2    0      0     0         0     0         7      0   \n",
       "2                3    5      0     0         0     0         1      9   \n",
       "\n",
       "label       OVARIAN  PROSTATE  RENAL  UNKNOWN  \n",
       "prediction                                     \n",
       "0                 0         0      0        0  \n",
       "1                 0         0      0        0  \n",
       "2                 6         2      9        1  "
      ]
     },
     "execution_count": 6,
     "metadata": {},
     "output_type": "execute_result"
    }
   ],
   "source": [
    "pd.crosstab(predictions[\"label\"], predictions[\"prediction\"]).T\n",
    "# NSCLC is the only one that's slightly different \n",
    "# from the book's results (but in a way that's actually better)"
   ]
  },
  {
   "cell_type": "markdown",
   "metadata": {},
   "source": [
    "ESL, p. 514: \"We see that the procedure is successful at grouping together samples of the same cancer. In fact, the two breast cancers in the second cluster were later found to be misdiagnosed and were melanomas that had metastasized\""
   ]
  },
  {
   "cell_type": "code",
   "execution_count": 7,
   "metadata": {},
   "outputs": [],
   "source": [
    "#pip install pyclustering"
   ]
  },
  {
   "cell_type": "code",
   "execution_count": 8,
   "metadata": {},
   "outputs": [
    {
     "data": {
      "text/plain": [
       "<pyclustering.cluster.clique.clique at 0x1a195b9fd0>"
      ]
     },
     "execution_count": 8,
     "metadata": {},
     "output_type": "execute_result"
    }
   ],
   "source": [
    "# example from documentation:\n",
    "\n",
    "# read two-dimensional input data 'Target'\n",
    "from pyclustering.utils import read_sample\n",
    "from pyclustering.samples.definitions import FCPS_SAMPLES\n",
    "data = read_sample(FCPS_SAMPLES.SAMPLE_TARGET)\n",
    "\n",
    "# create CLIQUE algorithm for processing\n",
    "intervals = 10  # defines amount of cells in grid in each dimension\n",
    "threshold = 0   # lets consider each point as non-outlier\n",
    "clique_instance = clique(data, intervals, threshold)\n",
    "# start clustering process and obtain results\n",
    "clique_instance.process()"
   ]
  },
  {
   "cell_type": "code",
   "execution_count": 9,
   "metadata": {},
   "outputs": [
    {
     "name": "stdout",
     "output_type": "stream",
     "text": [
      "Amount of clusters: 6\n"
     ]
    },
    {
     "data": {
      "image/png": "[encoded data removed]",
      "text/plain": [
       "<Figure size 432x288 with 1 Axes>"
      ]
     },
     "metadata": {
      "needs_background": "light"
     },
     "output_type": "display_data"
    },
    {
     "data": {
      "image/png": "[encoded data removed]",
      "text/plain": [
       "<Figure size 432x288 with 1 Axes>"
      ]
     },
     "metadata": {
      "needs_background": "light"
     },
     "output_type": "display_data"
    }
   ],
   "source": [
    "clusters = clique_instance.get_clusters()  # allocated clusters\n",
    "noise = clique_instance.get_noise()     # points that are considered as outliers (in this example should be empty)\n",
    "cells = clique_instance.get_cells()     # CLIQUE blocks that forms grid\n",
    "print(\"Amount of clusters:\", len(clusters))\n",
    "# visualize clustering results\n",
    "clique_visualizer.show_grid(cells, data)    # show grid that has been formed by the algorithm\n",
    "clique_visualizer.show_clusters(data, clusters, noise)  # show clustering results"
   ]
  },
  {
   "cell_type": "code",
   "execution_count": 10,
   "metadata": {},
   "outputs": [],
   "source": [
    "# try our dataset"
   ]
  },
  {
   "cell_type": "code",
   "execution_count": 11,
   "metadata": {},
   "outputs": [],
   "source": [
    "# nci data, preprocess to input in clique function\n",
    "features_as_list = features.values.tolist()\n",
    "# features.shape\n",
    "# len(features_as_list)"
   ]
  },
  {
   "cell_type": "code",
   "execution_count": 12,
   "metadata": {},
   "outputs": [
    {
     "name": "stdout",
     "output_type": "stream",
     "text": [
      "Amount of clusters: 0\n"
     ]
    }
   ],
   "source": [
    "intervals = 2  # defines amount of cells in grid in each dimension\n",
    "threshold = 0   # lets consider each point as non-outlier\n",
    "clique_instance = clique(features_as_list, intervals, threshold)\n",
    "clique_instance.process()\n",
    "clusters = clique_instance.get_clusters()  # allocated clusters\n",
    "noise = clique_instance.get_noise()     # points that are considered as outliers (in this example should be empty)\n",
    "cells = clique_instance.get_cells()     # CLIQUE blocks that forms grid\n",
    "print(\"Amount of clusters:\", len(clusters))"
   ]
  },
  {
   "cell_type": "code",
   "execution_count": 13,
   "metadata": {},
   "outputs": [
    {
     "data": {
      "text/plain": [
       "[]"
      ]
     },
     "execution_count": 13,
     "metadata": {},
     "output_type": "execute_result"
    }
   ],
   "source": [
    "cells # might be empty because it's not 2 or 3-dimensional"
   ]
  },
  {
   "cell_type": "code",
   "execution_count": 14,
   "metadata": {},
   "outputs": [
    {
     "data": {
      "text/plain": [
       "<type_encoding.CLUSTER_INDEX_LIST_SEPARATION: 1>"
      ]
     },
     "execution_count": 14,
     "metadata": {},
     "output_type": "execute_result"
    }
   ],
   "source": [
    "clique_instance.get_cluster_encoding()"
   ]
  },
  {
   "cell_type": "code",
   "execution_count": 15,
   "metadata": {},
   "outputs": [],
   "source": [
    "# means, as stated in CLIQUE paper, \"there are no clusters in the original data space.\""
   ]
  },
  {
   "cell_type": "code",
   "execution_count": 16,
   "metadata": {},
   "outputs": [],
   "source": [
    "# compare input to example input to see if that's the problem\n",
    "\n",
    "#len(data)\n",
    "#type(data)\n",
    "#type(data[1])\n",
    "#type(data[1][1])\n",
    "\n",
    "#type(features_as_list)\n",
    "#type(features_as_list[1])\n",
    "#type(features_as_list[1][1])\n",
    "# they match; not a datatype issue"
   ]
  },
  {
   "cell_type": "code",
   "execution_count": 17,
   "metadata": {},
   "outputs": [
    {
     "name": "stdout",
     "output_type": "stream",
     "text": [
      "Amount of clusters: 36\n"
     ]
    }
   ],
   "source": [
    "# maybe the number of features is too large??\n",
    "# here is a subset to see if clique can run on this dataset.\n",
    "features2 = features.loc[:, 0:10]\n",
    "features2_as_list = features2.values.tolist()\n",
    "intervals = 2 # defines amount of cells in grid in each dimension\n",
    "threshold = 0   # lets consider each point as non-outlier\n",
    "clique_instance = clique(features2_as_list, intervals, threshold)\n",
    "clique_instance.process()\n",
    "clusters = clique_instance.get_clusters()  # allocated clusters\n",
    "noise = clique_instance.get_noise()     # points that are considered as outliers (in this example should be empty)\n",
    "cells = clique_instance.get_cells()     # CLIQUE blocks that forms grid\n",
    "print(\"Amount of clusters:\", len(clusters))"
   ]
  },
  {
   "cell_type": "code",
   "execution_count": 18,
   "metadata": {},
   "outputs": [],
   "source": [
    "# basically means that clique doesn't actually do well in higher dimensions?\n",
    "# at least, in this case does not find any clusters."
   ]
  },
  {
   "cell_type": "code",
   "execution_count": 19,
   "metadata": {},
   "outputs": [],
   "source": [
    "# visualizer = cluster_visualizer_multidim()\n",
    "# visualizer.append_clusters(clusters, features_as_list)\n",
    "# visualizer.show(max_row_size=3)"
   ]
  },
  {
   "cell_type": "code",
   "execution_count": 20,
   "metadata": {},
   "outputs": [],
   "source": [
    "# well obviously it's not working, so let's apply kmeans and see if that's worse."
   ]
  },
  {
   "cell_type": "code",
   "execution_count": 21,
   "metadata": {},
   "outputs": [],
   "source": [
    "data_df = pd.DataFrame(data)"
   ]
  },
  {
   "cell_type": "code",
   "execution_count": 22,
   "metadata": {},
   "outputs": [],
   "source": [
    "kmeans2 = KMeans(n_clusters = 6, random_state = 0).fit(data_df)"
   ]
  },
  {
   "cell_type": "code",
   "execution_count": 23,
   "metadata": {},
   "outputs": [
    {
     "data": {
      "text/plain": [
       "KMeans(algorithm='auto', copy_x=True, init='k-means++', max_iter=300,\n",
       "       n_clusters=6, n_init=10, n_jobs=None, precompute_distances='auto',\n",
       "       random_state=0, tol=0.0001, verbose=0)"
      ]
     },
     "execution_count": 23,
     "metadata": {},
     "output_type": "execute_result"
    }
   ],
   "source": [
    "kmeans2"
   ]
  },
  {
   "cell_type": "code",
   "execution_count": 24,
   "metadata": {},
   "outputs": [],
   "source": [
    "predictions2 = kmeans2.predict(data_df)"
   ]
  },
  {
   "cell_type": "code",
   "execution_count": 25,
   "metadata": {},
   "outputs": [
    {
     "data": {
      "text/plain": [
       "<matplotlib.collections.PathCollection at 0x1a1d1e1f10>"
      ]
     },
     "execution_count": 25,
     "metadata": {},
     "output_type": "execute_result"
    },
    {
     "data": {
      "image/png": "[encoded data removed]",
      "text/plain": [
       "<Figure size 432x288 with 1 Axes>"
      ]
     },
     "metadata": {
      "needs_background": "light"
     },
     "output_type": "display_data"
    }
   ],
   "source": [
    "plt.scatter(x = data_df.loc[:,0], y = data_df.loc[:,1], s = 50, c = predictions2)"
   ]
  }
 ],
 "metadata": {
  "kernelspec": {
   "display_name": "Python 3",
   "language": "python",
   "name": "python3"
  },
  "language_info": {
   "codemirror_mode": {
    "name": "ipython",
    "version": 3
   },
   "file_extension": ".py",
   "mimetype": "text/x-python",
   "name": "python",
   "nbconvert_exporter": "python",
   "pygments_lexer": "ipython3",
   "version": "3.7.4"
  }
 },
 "nbformat": 4,
 "nbformat_minor": 2
}
